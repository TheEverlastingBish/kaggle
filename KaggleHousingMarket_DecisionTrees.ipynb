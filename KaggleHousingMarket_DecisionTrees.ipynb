{
 "cells": [
  {
   "cell_type": "markdown",
   "metadata": {},
   "source": [
    "#### We are going to load in the data from teh Iowa training set and build a model to predict the house prices for data from Iowa. We are going to test a number of decision tress to see find the best model."
   ]
  },
  {
   "cell_type": "markdown",
   "metadata": {},
   "source": [
    "## Data loading and descriptive statistics"
   ]
  },
  {
   "cell_type": "code",
   "execution_count": 25,
   "metadata": {
    "collapsed": true
   },
   "outputs": [],
   "source": [
    "import pandas as pd\n",
    "from sklearn.tree import DecisionTreeRegressor\n",
    "from sklearn.metrics import mean_absolute_error\n",
    "from sklearn.model_selection import train_test_split"
   ]
  },
  {
   "cell_type": "code",
   "execution_count": 26,
   "metadata": {},
   "outputs": [],
   "source": [
    "# Iowa filepath\n",
    "iowa_file_path = \"C:\\\\Users\\\\Bish\\\\Documents\\\\Data Analytics\\\\Kaggle\\\\Housing Market\\\\train.csv\"\n",
    "\n",
    "# Read in the data\n",
    "iowa_data = pd.read_csv(iowa_file_path)\n",
    "\n",
    "# Iowa data\n",
    "# print(iowa_data.head())\n",
    "# print(iowa_data.columns)\n",
    "# print(iowa_data.describe())"
   ]
  },
  {
   "cell_type": "code",
   "execution_count": 27,
   "metadata": {
    "collapsed": true
   },
   "outputs": [],
   "source": [
    "# Filtered Data with no missing values\n",
    "# iowa = iowa_data.dropna(axis = 0) # Not at the moment\n",
    "\n",
    "iowa = iowa_data"
   ]
  },
  {
   "cell_type": "code",
   "execution_count": 28,
   "metadata": {},
   "outputs": [],
   "source": [
    "# Check\n",
    "# print(iowa.describe())\n",
    "# print(iowa.head())"
   ]
  },
  {
   "cell_type": "markdown",
   "metadata": {},
   "source": [
    "## The Model - oooooooh!\n",
    "### Predictors and Split Sets"
   ]
  },
  {
   "cell_type": "code",
   "execution_count": 29,
   "metadata": {
    "collapsed": true
   },
   "outputs": [],
   "source": [
    "# Predictors and subsetting using predictors\n",
    "iowa_predictors = ['LotArea', 'YearBuilt', 'TotalBsmtSF', '1stFlrSF', '2ndFlrSF', \n",
    "                   'FullBath', 'BedroomAbvGr', 'TotRmsAbvGrd', 'GarageArea']\n",
    "iowa_X = iowa[iowa_predictors]\n",
    "iowa_y = iowa.SalePrice"
   ]
  },
  {
   "cell_type": "code",
   "execution_count": 30,
   "metadata": {},
   "outputs": [],
   "source": [
    "# Define model - we are going with Decision Trees\n",
    "iowa_model = DecisionTreeRegressor()\n"
   ]
  },
  {
   "cell_type": "code",
   "execution_count": 31,
   "metadata": {
    "collapsed": true
   },
   "outputs": [],
   "source": [
    "# Split data into training and validation set\n",
    "iowa_X_tr, iowa_X_val, iowa_y_tr, iowa_y_val = train_test_split(iowa_X, iowa_y, random_state = 0)\n"
   ]
  },
  {
   "cell_type": "markdown",
   "metadata": {},
   "source": [
    "### Basic Model Run and Validation"
   ]
  },
  {
   "cell_type": "code",
   "execution_count": 32,
   "metadata": {},
   "outputs": [
    {
     "name": "stdout",
     "output_type": "stream",
     "text": [
      "31957.460274\n"
     ]
    }
   ],
   "source": [
    "# Fit\n",
    "iowa_model.fit(iowa_X_tr, iowa_y_tr)\n",
    "\n",
    "# Check error\n",
    "print(mean_absolute_error(iowa_y_val, iowa_model.predict(iowa_X_val)))"
   ]
  },
  {
   "cell_type": "markdown",
   "metadata": {
    "collapsed": true
   },
   "source": [
    "### Run Multiple Models with varying max_leaf_nodes to choose the right model"
   ]
  },
  {
   "cell_type": "code",
   "execution_count": 33,
   "metadata": {
    "collapsed": true
   },
   "outputs": [],
   "source": [
    "def get_mae(max_leaf_nodes, train_preds, train_val, target_preds, target_val):\n",
    "    model = DecisionTreeRegressor(max_leaf_nodes = max_leaf_nodes, random_state = 0)\n",
    "    model.fit(train_preds, train_val)\n",
    "    preds_val = model.predict(target_preds)\n",
    "    mae = mean_absolute_error(preds_val, target_val)\n",
    "    return(mae)\n"
   ]
  },
  {
   "cell_type": "code",
   "execution_count": 34,
   "metadata": {},
   "outputs": [
    {
     "name": "stdout",
     "output_type": "stream",
     "text": [
      "Max Leaf Nodes: 5 \t\t Mean Absolute Error: 36453\n",
      "Max Leaf Nodes: 50 \t\t Mean Absolute Error: 28589\n",
      "Max Leaf Nodes: 500 \t\t Mean Absolute Error: 31202\n",
      "Max Leaf Nodes: 5000 \t\t Mean Absolute Error: 31348\n"
     ]
    }
   ],
   "source": [
    "for max_leaf_nodes in [5, 50, 500, 5000]:\n",
    "    my_mae = get_mae(max_leaf_nodes, iowa_X_tr, iowa_y_tr, iowa_X_val, iowa_y_val)\n",
    "    print(\"Max Leaf Nodes: %d \\t\\t Mean Absolute Error: %d\" %(max_leaf_nodes, my_mae))\n",
    "# End"
   ]
  }
 ],
 "metadata": {
  "kernelspec": {
   "display_name": "Python 3",
   "language": "python",
   "name": "python3"
  },
  "language_info": {
   "codemirror_mode": {
    "name": "ipython",
    "version": 3
   },
   "file_extension": ".py",
   "mimetype": "text/x-python",
   "name": "python",
   "nbconvert_exporter": "python",
   "pygments_lexer": "ipython3",
   "version": "3.6.2"
  }
 },
 "nbformat": 4,
 "nbformat_minor": 2
}
