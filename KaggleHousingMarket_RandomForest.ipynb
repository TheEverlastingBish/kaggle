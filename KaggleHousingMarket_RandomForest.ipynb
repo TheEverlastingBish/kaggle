{
 "cells": [
  {
   "cell_type": "markdown",
   "metadata": {},
   "source": [
    "#### We are going to load in the data from the Iowa training set:\n",
    "#### https://www.kaggle.com/c/house-prices-advanced-regression-techniques\n",
    "#### and build a model to predict the house prices for data from Iowa using Random Forest."
   ]
  },
  {
   "cell_type": "markdown",
   "metadata": {},
   "source": [
    "## Data loading and descriptive statistics"
   ]
  },
  {
   "cell_type": "code",
   "execution_count": 2,
   "metadata": {},
   "outputs": [],
   "source": [
    "import pandas as pd\n",
    "# from sklearn.tree import DecisionTreeRegressor\n",
    "from sklearn.ensemble import RandomForestRegressor\n",
    "from sklearn.metrics import mean_absolute_error\n",
    "from sklearn.model_selection import train_test_split"
   ]
  },
  {
   "cell_type": "code",
   "execution_count": 3,
   "metadata": {
    "collapsed": true
   },
   "outputs": [],
   "source": [
    "# Iowa filepath\n",
    "iowa_file_path = \"C:\\\\Users\\\\Bish\\\\Documents\\\\Data Analytics\\\\Kaggle\\\\Housing Market\\\\train.csv\"\n",
    "\n",
    "# Read in the data\n",
    "iowa_data = pd.read_csv(iowa_file_path)\n",
    "\n",
    "# Iowa data\n",
    "# print(iowa_data.head())\n",
    "# print(iowa_data.columns)\n",
    "# print(iowa_data.describe())"
   ]
  },
  {
   "cell_type": "code",
   "execution_count": 4,
   "metadata": {
    "collapsed": true
   },
   "outputs": [],
   "source": [
    "# Filtered Data with no missing values\n",
    "# iowa = iowa_data.dropna(axis = 0) # Not at the moment\n",
    "\n",
    "iowa = iowa_data"
   ]
  },
  {
   "cell_type": "code",
   "execution_count": 5,
   "metadata": {
    "collapsed": true
   },
   "outputs": [],
   "source": [
    "# Check\n",
    "# print(iowa.describe())\n",
    "# print(iowa.head())"
   ]
  },
  {
   "cell_type": "markdown",
   "metadata": {},
   "source": [
    "## The Model - oooooooh!\n",
    "### Predictors and Split Sets"
   ]
  },
  {
   "cell_type": "code",
   "execution_count": 6,
   "metadata": {
    "collapsed": true
   },
   "outputs": [],
   "source": [
    "# Predictors and subsetting using predictors\n",
    "iowa_predictors = ['LotArea', 'YearBuilt', 'TotalBsmtSF', '1stFlrSF', '2ndFlrSF', \n",
    "                   'FullBath', 'BedroomAbvGr', 'TotRmsAbvGrd', 'GarageArea']\n",
    "iowa_X = iowa[iowa_predictors]\n",
    "iowa_y = iowa.SalePrice"
   ]
  },
  {
   "cell_type": "code",
   "execution_count": 7,
   "metadata": {
    "collapsed": true
   },
   "outputs": [],
   "source": [
    "# Split data into training and validation set\n",
    "iowa_X_tr, iowa_X_val, iowa_y_tr, iowa_y_val = train_test_split(iowa_X, iowa_y, random_state = 0)\n"
   ]
  },
  {
   "cell_type": "markdown",
   "metadata": {},
   "source": [
    "### Model and Validation"
   ]
  },
  {
   "cell_type": "code",
   "execution_count": 10,
   "metadata": {},
   "outputs": [
    {
     "name": "stdout",
     "output_type": "stream",
     "text": [
      "Random Forest Error: 22770\n",
      "Decision Tree Error: 28589\n"
     ]
    }
   ],
   "source": [
    "# Define model - we are going with Random Forest\n",
    "iowa_model = RandomForestRegressor()\n",
    "# Fit\n",
    "iowa_model.fit(iowa_X_tr, iowa_y_tr)\n",
    "# Get predictions\n",
    "iowa_preds = iowa_model.predict(iowa_X_val)\n",
    "# Check error\n",
    "print(\"Random Forest Error: %d\" %(mean_absolute_error(iowa_y_val, iowa_preds)))\n",
    "print(\"Decision Tree Error: 28589\")"
   ]
  },
  {
   "cell_type": "code",
   "execution_count": null,
   "metadata": {
    "collapsed": true
   },
   "outputs": [],
   "source": []
  }
 ],
 "metadata": {
  "kernelspec": {
   "display_name": "Python 3",
   "language": "python",
   "name": "python3"
  },
  "language_info": {
   "codemirror_mode": {
    "name": "ipython",
    "version": 3
   },
   "file_extension": ".py",
   "mimetype": "text/x-python",
   "name": "python",
   "nbconvert_exporter": "python",
   "pygments_lexer": "ipython3",
   "version": "3.6.2"
  }
 },
 "nbformat": 4,
 "nbformat_minor": 2
}
