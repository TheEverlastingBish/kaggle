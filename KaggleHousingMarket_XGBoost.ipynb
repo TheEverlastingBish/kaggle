{
 "cells": [
  {
   "cell_type": "markdown",
   "metadata": {},
   "source": [
    "#### We are going to load in the data from the Iowa training set:\n",
    "#### https://www.kaggle.com/c/house-prices-advanced-regression-techniques\n",
    "#### and build a model to predict the house prices for data from Iowa using XGBoost.\n",
    "#### *XGBoost is currently the dominant algorithm for building accurate models on conventional data (also called tabular or strutured data).*"
   ]
  },
  {
   "cell_type": "code",
   "execution_count": 1,
   "metadata": {},
   "outputs": [],
   "source": [
    "import pandas as pd\n",
    "import xgboost_loader\n",
    "\n",
    "# from sklearn.tree import DecisionTreeRegressor\n",
    "# from sklearn.ensemble import RandomForestRegressor\n",
    "\n",
    "from sklearn.metrics import mean_absolute_error\n",
    "from sklearn.model_selection import train_test_split\n",
    "from sklearn.preprocessing import Imputer\n",
    "from sklearn.pipeline import make_pipeline\n",
    "from sklearn.model_selection import cross_val_score\n",
    "\n",
    "import xgboost as xgb"
   ]
  },
  {
   "cell_type": "code",
   "execution_count": 2,
   "metadata": {},
   "outputs": [],
   "source": [
    "iowa_file_path = \"C:\\\\Users\\\\Bish\\\\Documents\\\\Data Analytics\\\\Kaggle\\\\Housing Market\\\\train.csv\"\n",
    "iowa = pd.read_csv(iowa_file_path)\n",
    "\n",
    "# print(iowa.columns)\n",
    "# print(iowa.describe())\n",
    "# iowa = iowa.dropna(axis=0)\n"
   ]
  },
  {
   "cell_type": "code",
   "execution_count": 8,
   "metadata": {},
   "outputs": [],
   "source": [
    "cols_to_keep = ['LotArea', 'YearBuilt', 'TotalBsmtSF', '1stFlrSF' , '2ndFlrSF', \n",
    "                'FullBath', 'BedroomAbvGr', 'TotRmsAbvGrd', 'GarageArea']\n",
    "\n",
    "X = iowa[cols_to_keep]\n",
    "y = iowa.SalePrice\n",
    "# print(X.shape)\n",
    "# print(X.head())\n",
    "# print(X.describe())"
   ]
  },
  {
   "cell_type": "code",
   "execution_count": 4,
   "metadata": {},
   "outputs": [],
   "source": [
    "# Split data into training and validation sets\n",
    "X_tr, X_val, y_tr, y_val = train_test_split(X.as_matrix(), y.as_matrix(), random_state = 0)\n"
   ]
  },
  {
   "cell_type": "code",
   "execution_count": 12,
   "metadata": {},
   "outputs": [],
   "source": [
    "# myPipeline = make_pipeline(Imputer(), xgb.XGBRegressor(n_estimators = 1000, learning_rate = 0.05))\n",
    "# xgb.DMatrix(X_tr, label=y_tr)\n",
    "model = xgb.XGBRegressor(n_estimators = 1000, learning_rate = 0.05)\n"
   ]
  },
  {
   "cell_type": "code",
   "execution_count": 14,
   "metadata": {},
   "outputs": [
    {
     "data": {
      "text/plain": [
       "XGBRegressor(base_score=0.5, booster='gbtree', colsample_bylevel=1,\n",
       "       colsample_bytree=1, gamma=0, learning_rate=0.05, max_delta_step=0,\n",
       "       max_depth=3, min_child_weight=1, missing=None, n_estimators=1000,\n",
       "       n_jobs=1, nthread=None, objective='reg:linear', random_state=0,\n",
       "       reg_alpha=0, reg_lambda=1, scale_pos_weight=1, seed=None,\n",
       "       silent=True, subsample=1)"
      ]
     },
     "execution_count": 14,
     "metadata": {},
     "output_type": "execute_result"
    }
   ],
   "source": [
    "# myPipeline.fit(X_tr, y_tr, early_stopping_rounds = 5, eval_set = [(X_val, y_val)], verbose=True)\n",
    "# iowa_preds = myPipeline.predict(iowa_X_val)\n",
    "# print(\"Train Split with XGBoost Error: %d\" %(mean_absolute_error(iowa_y_val, iowa_preds)))\n",
    "\n",
    "model.fit(X_tr, y_tr, early_stopping_rounds = 5, eval_set = [(X_val, y_val)], verbose=False)"
   ]
  },
  {
   "cell_type": "code",
   "execution_count": 15,
   "metadata": {},
   "outputs": [
    {
     "name": "stdout",
     "output_type": "stream",
     "text": [
      "Mean Absolute Error : 21568.9184075\n"
     ]
    }
   ],
   "source": [
    "preds = model.predict(X_val)\n",
    "print(\"Mean Absolute Error : \" + str(mean_absolute_error(preds, y_val)))"
   ]
  },
  {
   "cell_type": "code",
   "execution_count": null,
   "metadata": {
    "collapsed": true
   },
   "outputs": [],
   "source": []
  }
 ],
 "metadata": {
  "kernelspec": {
   "display_name": "Python 3",
   "language": "python",
   "name": "python3"
  },
  "language_info": {
   "codemirror_mode": {
    "name": "ipython",
    "version": 3
   },
   "file_extension": ".py",
   "mimetype": "text/x-python",
   "name": "python",
   "nbconvert_exporter": "python",
   "pygments_lexer": "ipython3",
   "version": "3.6.2"
  }
 },
 "nbformat": 4,
 "nbformat_minor": 2
}
